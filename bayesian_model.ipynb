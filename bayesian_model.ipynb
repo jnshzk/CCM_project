{
 "cells": [
  {
   "cell_type": "code",
   "execution_count": 1,
   "id": "0ceec134",
   "metadata": {},
   "outputs": [],
   "source": [
    "import pandas as pd\n",
    "import matplotlib.pyplot as plt\n",
    "import numpy as np\n",
    "import scipy.stats as stats\n",
    "from scipy.special import softmax, log_softmax\n",
    "import torch\n",
    "import torch.nn as nn\n",
    "import torch.nn.functional as F\n",
    "from torchvision import datasets, transforms, utils\n",
    "\n",
    "from fitter import Fitter, get_common_distributions\n",
    "\n",
    "from tqdm import tqdm\n",
    "import random"
   ]
  },
  {
   "cell_type": "markdown",
   "id": "7c85e9ff",
   "metadata": {},
   "source": [
    "# Import P(f_i | C) distributions"
   ]
  },
  {
   "cell_type": "code",
   "execution_count": 2,
   "id": "fd98a116",
   "metadata": {},
   "outputs": [
    {
     "data": {
      "text/html": [
       "<div>\n",
       "<style scoped>\n",
       "    .dataframe tbody tr th:only-of-type {\n",
       "        vertical-align: middle;\n",
       "    }\n",
       "\n",
       "    .dataframe tbody tr th {\n",
       "        vertical-align: top;\n",
       "    }\n",
       "\n",
       "    .dataframe thead th {\n",
       "        text-align: right;\n",
       "    }\n",
       "</style>\n",
       "<table border=\"1\" class=\"dataframe\">\n",
       "  <thead>\n",
       "    <tr style=\"text-align: right;\">\n",
       "      <th></th>\n",
       "      <th>feature</th>\n",
       "      <th>distribution_type</th>\n",
       "      <th>params</th>\n",
       "      <th>label</th>\n",
       "    </tr>\n",
       "  </thead>\n",
       "  <tbody>\n",
       "    <tr>\n",
       "      <th>0</th>\n",
       "      <td>feature_2</td>\n",
       "      <td>beta</td>\n",
       "      <td>(0.11776839045890578, 149.74182795203535, -2.1...</td>\n",
       "      <td>5</td>\n",
       "    </tr>\n",
       "    <tr>\n",
       "      <th>1</th>\n",
       "      <td>feature_4</td>\n",
       "      <td>beta</td>\n",
       "      <td>(0.2711632488092937, 465.4069516854168, -1.928...</td>\n",
       "      <td>5</td>\n",
       "    </tr>\n",
       "    <tr>\n",
       "      <th>2</th>\n",
       "      <td>feature_5</td>\n",
       "      <td>beta</td>\n",
       "      <td>(0.21602060508177978, 625.918439600516, -4.846...</td>\n",
       "      <td>5</td>\n",
       "    </tr>\n",
       "    <tr>\n",
       "      <th>3</th>\n",
       "      <td>feature_6</td>\n",
       "      <td>beta</td>\n",
       "      <td>(14.256280670273213, 6.9058459231954, 1.454610...</td>\n",
       "      <td>5</td>\n",
       "    </tr>\n",
       "    <tr>\n",
       "      <th>4</th>\n",
       "      <td>feature_7</td>\n",
       "      <td>beta</td>\n",
       "      <td>(0.4894176208554678, 528.8948875881285, -8.432...</td>\n",
       "      <td>5</td>\n",
       "    </tr>\n",
       "    <tr>\n",
       "      <th>5</th>\n",
       "      <td>feature_8</td>\n",
       "      <td>beta</td>\n",
       "      <td>(0.11519992942043017, 197.06722892055205, -4.6...</td>\n",
       "      <td>5</td>\n",
       "    </tr>\n",
       "    <tr>\n",
       "      <th>6</th>\n",
       "      <td>feature_9</td>\n",
       "      <td>beta</td>\n",
       "      <td>(0.3018378051146521, 204.95938188638956, -5.83...</td>\n",
       "      <td>5</td>\n",
       "    </tr>\n",
       "    <tr>\n",
       "      <th>7</th>\n",
       "      <td>feature_10</td>\n",
       "      <td>beta</td>\n",
       "      <td>(14.752993151276618, 6.344337461684533, 0.1954...</td>\n",
       "      <td>5</td>\n",
       "    </tr>\n",
       "    <tr>\n",
       "      <th>8</th>\n",
       "      <td>feature_2</td>\n",
       "      <td>beta</td>\n",
       "      <td>(14.821670613196302, 7.86665989995932, -6.5503...</td>\n",
       "      <td>8</td>\n",
       "    </tr>\n",
       "    <tr>\n",
       "      <th>9</th>\n",
       "      <td>feature_4</td>\n",
       "      <td>beta</td>\n",
       "      <td>(16.236326591296894, 5.212638487058973, -7.674...</td>\n",
       "      <td>8</td>\n",
       "    </tr>\n",
       "    <tr>\n",
       "      <th>10</th>\n",
       "      <td>feature_5</td>\n",
       "      <td>beta</td>\n",
       "      <td>(23.52168539780558, 8.747681903570191, -11.557...</td>\n",
       "      <td>8</td>\n",
       "    </tr>\n",
       "    <tr>\n",
       "      <th>11</th>\n",
       "      <td>feature_6</td>\n",
       "      <td>beta</td>\n",
       "      <td>(59.93279665321238, 210.31799167534894, -2.944...</td>\n",
       "      <td>8</td>\n",
       "    </tr>\n",
       "    <tr>\n",
       "      <th>12</th>\n",
       "      <td>feature_7</td>\n",
       "      <td>beta</td>\n",
       "      <td>(10.586087198388766, 4.794197634050963, -3.711...</td>\n",
       "      <td>8</td>\n",
       "    </tr>\n",
       "    <tr>\n",
       "      <th>13</th>\n",
       "      <td>feature_8</td>\n",
       "      <td>beta</td>\n",
       "      <td>(8.971325076435694, 5.050466430998716, -2.1962...</td>\n",
       "      <td>8</td>\n",
       "    </tr>\n",
       "    <tr>\n",
       "      <th>14</th>\n",
       "      <td>feature_9</td>\n",
       "      <td>beta</td>\n",
       "      <td>(11.521370998879878, 4.714787658503679, -5.612...</td>\n",
       "      <td>8</td>\n",
       "    </tr>\n",
       "    <tr>\n",
       "      <th>15</th>\n",
       "      <td>feature_10</td>\n",
       "      <td>chi2</td>\n",
       "      <td>(147.0732593098425, -5.332880052605558, 0.1551...</td>\n",
       "      <td>8</td>\n",
       "    </tr>\n",
       "  </tbody>\n",
       "</table>\n",
       "</div>"
      ],
      "text/plain": [
       "       feature distribution_type  \\\n",
       "0    feature_2              beta   \n",
       "1    feature_4              beta   \n",
       "2    feature_5              beta   \n",
       "3    feature_6              beta   \n",
       "4    feature_7              beta   \n",
       "5    feature_8              beta   \n",
       "6    feature_9              beta   \n",
       "7   feature_10              beta   \n",
       "8    feature_2              beta   \n",
       "9    feature_4              beta   \n",
       "10   feature_5              beta   \n",
       "11   feature_6              beta   \n",
       "12   feature_7              beta   \n",
       "13   feature_8              beta   \n",
       "14   feature_9              beta   \n",
       "15  feature_10              chi2   \n",
       "\n",
       "                                               params  label  \n",
       "0   (0.11776839045890578, 149.74182795203535, -2.1...      5  \n",
       "1   (0.2711632488092937, 465.4069516854168, -1.928...      5  \n",
       "2   (0.21602060508177978, 625.918439600516, -4.846...      5  \n",
       "3   (14.256280670273213, 6.9058459231954, 1.454610...      5  \n",
       "4   (0.4894176208554678, 528.8948875881285, -8.432...      5  \n",
       "5   (0.11519992942043017, 197.06722892055205, -4.6...      5  \n",
       "6   (0.3018378051146521, 204.95938188638956, -5.83...      5  \n",
       "7   (14.752993151276618, 6.344337461684533, 0.1954...      5  \n",
       "8   (14.821670613196302, 7.86665989995932, -6.5503...      8  \n",
       "9   (16.236326591296894, 5.212638487058973, -7.674...      8  \n",
       "10  (23.52168539780558, 8.747681903570191, -11.557...      8  \n",
       "11  (59.93279665321238, 210.31799167534894, -2.944...      8  \n",
       "12  (10.586087198388766, 4.794197634050963, -3.711...      8  \n",
       "13  (8.971325076435694, 5.050466430998716, -2.1962...      8  \n",
       "14  (11.521370998879878, 4.714787658503679, -5.612...      8  \n",
       "15  (147.0732593098425, -5.332880052605558, 0.1551...      8  "
      ]
     },
     "execution_count": 2,
     "metadata": {},
     "output_type": "execute_result"
    }
   ],
   "source": [
    "#import best fitting distributions and parameters\n",
    "\n",
    "feature_dists_df = pd.read_csv('feature_dists_df.csv').drop(['Unnamed: 0'], axis=1)\n",
    "feature_dists_df"
   ]
  },
  {
   "cell_type": "code",
   "execution_count": 3,
   "id": "9ffb24dc",
   "metadata": {},
   "outputs": [],
   "source": [
    "#create RV objects and store in dicts\n",
    "\n",
    "feature_dists_5 = {}\n",
    "feature_dists_8 = {}\n",
    "\n",
    "for row in feature_dists_df.iterrows():\n",
    "    row = row[1]\n",
    "    \n",
    "    #convert params string into tuple of floats\n",
    "    params = tuple(map(float, row['params'][1:-1].split(', ')))\n",
    "    \n",
    "    #initialize RV objects\n",
    "    if row['distribution_type']=='beta':\n",
    "        dist = stats.beta(params[0], params[1], params[2], params[3])\n",
    "    elif row['distribution_type']=='chi2':\n",
    "        dist = stats.chi2(params[0], params[1], params[2])\n",
    "    else:\n",
    "        print('INVALID DISTRIBUTION TYPE')\n",
    "        break\n",
    "    \n",
    "    #store RV objects in dicts\n",
    "    if row['label'] == 5:\n",
    "        feature_dists_5[row['feature']] = dist\n",
    "    else:\n",
    "        feature_dists_8[row['feature']] = dist\n"
   ]
  },
  {
   "cell_type": "code",
   "execution_count": 4,
   "id": "1494f846",
   "metadata": {},
   "outputs": [
    {
     "data": {
      "text/plain": [
       "{'feature_2': <scipy.stats._distn_infrastructure.rv_frozen at 0x7feadcbe2280>,\n",
       " 'feature_4': <scipy.stats._distn_infrastructure.rv_frozen at 0x7feadcbe2160>,\n",
       " 'feature_5': <scipy.stats._distn_infrastructure.rv_frozen at 0x7feadcbe2670>,\n",
       " 'feature_6': <scipy.stats._distn_infrastructure.rv_frozen at 0x7feadcbe2970>,\n",
       " 'feature_7': <scipy.stats._distn_infrastructure.rv_frozen at 0x7feadcbe2cd0>,\n",
       " 'feature_8': <scipy.stats._distn_infrastructure.rv_frozen at 0x7feadcbe2130>,\n",
       " 'feature_9': <scipy.stats._distn_infrastructure.rv_frozen at 0x7feadcbe2250>,\n",
       " 'feature_10': <scipy.stats._distn_infrastructure.rv_frozen at 0x7feadcbe20d0>}"
      ]
     },
     "execution_count": 4,
     "metadata": {},
     "output_type": "execute_result"
    }
   ],
   "source": [
    "feature_dists_5"
   ]
  },
  {
   "cell_type": "markdown",
   "id": "39e5ee86",
   "metadata": {},
   "source": [
    "# Get P(f_i) distributions"
   ]
  },
  {
   "cell_type": "code",
   "execution_count": 5,
   "id": "a5991e00",
   "metadata": {},
   "outputs": [
    {
     "data": {
      "text/html": [
       "<div>\n",
       "<style scoped>\n",
       "    .dataframe tbody tr th:only-of-type {\n",
       "        vertical-align: middle;\n",
       "    }\n",
       "\n",
       "    .dataframe tbody tr th {\n",
       "        vertical-align: top;\n",
       "    }\n",
       "\n",
       "    .dataframe thead th {\n",
       "        text-align: right;\n",
       "    }\n",
       "</style>\n",
       "<table border=\"1\" class=\"dataframe\">\n",
       "  <thead>\n",
       "    <tr style=\"text-align: right;\">\n",
       "      <th></th>\n",
       "      <th>label</th>\n",
       "      <th>feature_1</th>\n",
       "      <th>feature_2</th>\n",
       "      <th>feature_3</th>\n",
       "      <th>feature_4</th>\n",
       "      <th>feature_5</th>\n",
       "      <th>feature_6</th>\n",
       "      <th>feature_7</th>\n",
       "      <th>feature_8</th>\n",
       "      <th>feature_9</th>\n",
       "      <th>feature_10</th>\n",
       "    </tr>\n",
       "  </thead>\n",
       "  <tbody>\n",
       "    <tr>\n",
       "      <th>0</th>\n",
       "      <td>8</td>\n",
       "      <td>0.0</td>\n",
       "      <td>11.246423</td>\n",
       "      <td>0.0</td>\n",
       "      <td>7.995950</td>\n",
       "      <td>9.410959</td>\n",
       "      <td>19.745337</td>\n",
       "      <td>9.010060</td>\n",
       "      <td>8.527996</td>\n",
       "      <td>10.110795</td>\n",
       "      <td>19.589340</td>\n",
       "    </tr>\n",
       "    <tr>\n",
       "      <th>1</th>\n",
       "      <td>8</td>\n",
       "      <td>0.0</td>\n",
       "      <td>13.312637</td>\n",
       "      <td>0.0</td>\n",
       "      <td>10.743755</td>\n",
       "      <td>11.378502</td>\n",
       "      <td>18.715256</td>\n",
       "      <td>11.810072</td>\n",
       "      <td>11.065614</td>\n",
       "      <td>12.528616</td>\n",
       "      <td>18.708977</td>\n",
       "    </tr>\n",
       "    <tr>\n",
       "      <th>2</th>\n",
       "      <td>5</td>\n",
       "      <td>0.0</td>\n",
       "      <td>0.000000</td>\n",
       "      <td>0.0</td>\n",
       "      <td>0.000000</td>\n",
       "      <td>0.000000</td>\n",
       "      <td>28.648830</td>\n",
       "      <td>0.000000</td>\n",
       "      <td>0.000000</td>\n",
       "      <td>0.000000</td>\n",
       "      <td>30.524609</td>\n",
       "    </tr>\n",
       "    <tr>\n",
       "      <th>3</th>\n",
       "      <td>5</td>\n",
       "      <td>0.0</td>\n",
       "      <td>0.000000</td>\n",
       "      <td>0.0</td>\n",
       "      <td>0.000000</td>\n",
       "      <td>0.000000</td>\n",
       "      <td>26.991035</td>\n",
       "      <td>0.000000</td>\n",
       "      <td>0.000000</td>\n",
       "      <td>0.000000</td>\n",
       "      <td>29.041384</td>\n",
       "    </tr>\n",
       "    <tr>\n",
       "      <th>4</th>\n",
       "      <td>8</td>\n",
       "      <td>0.0</td>\n",
       "      <td>5.038842</td>\n",
       "      <td>0.0</td>\n",
       "      <td>5.323320</td>\n",
       "      <td>5.368689</td>\n",
       "      <td>22.266983</td>\n",
       "      <td>4.806798</td>\n",
       "      <td>4.124915</td>\n",
       "      <td>4.903548</td>\n",
       "      <td>23.818264</td>\n",
       "    </tr>\n",
       "  </tbody>\n",
       "</table>\n",
       "</div>"
      ],
      "text/plain": [
       "   label  feature_1  feature_2  feature_3  feature_4  feature_5  feature_6  \\\n",
       "0      8        0.0  11.246423        0.0   7.995950   9.410959  19.745337   \n",
       "1      8        0.0  13.312637        0.0  10.743755  11.378502  18.715256   \n",
       "2      5        0.0   0.000000        0.0   0.000000   0.000000  28.648830   \n",
       "3      5        0.0   0.000000        0.0   0.000000   0.000000  26.991035   \n",
       "4      8        0.0   5.038842        0.0   5.323320   5.368689  22.266983   \n",
       "\n",
       "   feature_7  feature_8  feature_9  feature_10  \n",
       "0   9.010060   8.527996  10.110795   19.589340  \n",
       "1  11.810072  11.065614  12.528616   18.708977  \n",
       "2   0.000000   0.000000   0.000000   30.524609  \n",
       "3   0.000000   0.000000   0.000000   29.041384  \n",
       "4   4.806798   4.124915   4.903548   23.818264  "
      ]
     },
     "execution_count": 5,
     "metadata": {},
     "output_type": "execute_result"
    }
   ],
   "source": [
    "#import training feature value distributions\n",
    "train_feature_vals_df = pd.read_csv('hidden_features_df.csv', index_col=\"Unnamed: 0\")\n",
    "train_feature_vals_df.head()"
   ]
  },
  {
   "cell_type": "code",
   "execution_count": 6,
   "id": "177f1296",
   "metadata": {},
   "outputs": [
    {
     "name": "stdout",
     "output_type": "stream",
     "text": [
      "feature_1  feature_1\n",
      "0.0        0.0          9370\n",
      "Name: feature_1, dtype: int64\n",
      "feature_3  feature_3\n",
      "0.0        0.0          9370\n",
      "Name: feature_3, dtype: int64\n"
     ]
    }
   ],
   "source": [
    "# checking if feature_1 and feature_3 have all zeros\n",
    "counts_feature1 = train_feature_vals_df.groupby('feature_1')['feature_1'].value_counts()\n",
    "print(counts_feature1)\n",
    "\n",
    "counts_feature3 = train_feature_vals_df.groupby('feature_3')['feature_3'].value_counts()\n",
    "print(counts_feature3)"
   ]
  },
  {
   "cell_type": "code",
   "execution_count": 7,
   "id": "5ea8c6c1",
   "metadata": {},
   "outputs": [],
   "source": [
    "# dropping feature_1 and feature_3\n",
    "train_feature_vals_df.drop(['feature_1', 'feature_3'], axis=1, inplace=True)"
   ]
  },
  {
   "cell_type": "code",
   "execution_count": 8,
   "id": "dfee7005",
   "metadata": {},
   "outputs": [
    {
     "data": {
      "text/html": [
       "<div>\n",
       "<style scoped>\n",
       "    .dataframe tbody tr th:only-of-type {\n",
       "        vertical-align: middle;\n",
       "    }\n",
       "\n",
       "    .dataframe tbody tr th {\n",
       "        vertical-align: top;\n",
       "    }\n",
       "\n",
       "    .dataframe thead th {\n",
       "        text-align: right;\n",
       "    }\n",
       "</style>\n",
       "<table border=\"1\" class=\"dataframe\">\n",
       "  <thead>\n",
       "    <tr style=\"text-align: right;\">\n",
       "      <th></th>\n",
       "      <th>label</th>\n",
       "      <th>feature_2</th>\n",
       "      <th>feature_4</th>\n",
       "      <th>feature_5</th>\n",
       "      <th>feature_6</th>\n",
       "      <th>feature_7</th>\n",
       "      <th>feature_8</th>\n",
       "      <th>feature_9</th>\n",
       "      <th>feature_10</th>\n",
       "    </tr>\n",
       "  </thead>\n",
       "  <tbody>\n",
       "    <tr>\n",
       "      <th>0</th>\n",
       "      <td>8</td>\n",
       "      <td>11.246423</td>\n",
       "      <td>7.995950</td>\n",
       "      <td>9.410959</td>\n",
       "      <td>19.745337</td>\n",
       "      <td>9.010060</td>\n",
       "      <td>8.527996</td>\n",
       "      <td>10.110795</td>\n",
       "      <td>19.589340</td>\n",
       "    </tr>\n",
       "    <tr>\n",
       "      <th>1</th>\n",
       "      <td>8</td>\n",
       "      <td>13.312637</td>\n",
       "      <td>10.743755</td>\n",
       "      <td>11.378502</td>\n",
       "      <td>18.715256</td>\n",
       "      <td>11.810072</td>\n",
       "      <td>11.065614</td>\n",
       "      <td>12.528616</td>\n",
       "      <td>18.708977</td>\n",
       "    </tr>\n",
       "    <tr>\n",
       "      <th>2</th>\n",
       "      <td>5</td>\n",
       "      <td>0.000000</td>\n",
       "      <td>0.000000</td>\n",
       "      <td>0.000000</td>\n",
       "      <td>28.648830</td>\n",
       "      <td>0.000000</td>\n",
       "      <td>0.000000</td>\n",
       "      <td>0.000000</td>\n",
       "      <td>30.524609</td>\n",
       "    </tr>\n",
       "    <tr>\n",
       "      <th>3</th>\n",
       "      <td>5</td>\n",
       "      <td>0.000000</td>\n",
       "      <td>0.000000</td>\n",
       "      <td>0.000000</td>\n",
       "      <td>26.991035</td>\n",
       "      <td>0.000000</td>\n",
       "      <td>0.000000</td>\n",
       "      <td>0.000000</td>\n",
       "      <td>29.041384</td>\n",
       "    </tr>\n",
       "    <tr>\n",
       "      <th>4</th>\n",
       "      <td>8</td>\n",
       "      <td>5.038842</td>\n",
       "      <td>5.323320</td>\n",
       "      <td>5.368689</td>\n",
       "      <td>22.266983</td>\n",
       "      <td>4.806798</td>\n",
       "      <td>4.124915</td>\n",
       "      <td>4.903548</td>\n",
       "      <td>23.818264</td>\n",
       "    </tr>\n",
       "  </tbody>\n",
       "</table>\n",
       "</div>"
      ],
      "text/plain": [
       "   label  feature_2  feature_4  feature_5  feature_6  feature_7  feature_8  \\\n",
       "0      8  11.246423   7.995950   9.410959  19.745337   9.010060   8.527996   \n",
       "1      8  13.312637  10.743755  11.378502  18.715256  11.810072  11.065614   \n",
       "2      5   0.000000   0.000000   0.000000  28.648830   0.000000   0.000000   \n",
       "3      5   0.000000   0.000000   0.000000  26.991035   0.000000   0.000000   \n",
       "4      8   5.038842   5.323320   5.368689  22.266983   4.806798   4.124915   \n",
       "\n",
       "   feature_9  feature_10  \n",
       "0  10.110795   19.589340  \n",
       "1  12.528616   18.708977  \n",
       "2   0.000000   30.524609  \n",
       "3   0.000000   29.041384  \n",
       "4   4.903548   23.818264  "
      ]
     },
     "execution_count": 8,
     "metadata": {},
     "output_type": "execute_result"
    }
   ],
   "source": [
    "train_feature_vals_df.head()"
   ]
  },
  {
   "cell_type": "code",
   "execution_count": 9,
   "id": "a8fa1a7a",
   "metadata": {},
   "outputs": [],
   "source": [
    "#store histograms for each feature in dict\n",
    "hist_dict = {}"
   ]
  },
  {
   "cell_type": "code",
   "execution_count": 10,
   "id": "e62abbab",
   "metadata": {},
   "outputs": [
    {
     "data": {
      "image/png": "[encoded data removed]",
      "text/plain": [
       "<Figure size 432x288 with 1 Axes>"
      ]
     },
     "metadata": {
      "needs_background": "light"
     },
     "output_type": "display_data"
    }
   ],
   "source": [
    "#fit distributionn for feature 2\n",
    "\n",
    "feature_2 = train_feature_vals_df['feature_2']\n",
    "feature_2_hist = plt.hist(feature_2, bins=50)\n",
    "feature_2_hist\n",
    "\n",
    "#add histogram to hist_dict\n",
    "hist_dict['feature_2'] = feature_2_hist"
   ]
  },
  {
   "cell_type": "code",
   "execution_count": 11,
   "id": "249e95b0",
   "metadata": {},
   "outputs": [
    {
     "data": {
      "image/png": "[encoded data removed]",
      "text/plain": [
       "<Figure size 432x288 with 1 Axes>"
      ]
     },
     "metadata": {
      "needs_background": "light"
     },
     "output_type": "display_data"
    }
   ],
   "source": [
    "#fit distributionn for feature 4\n",
    "\n",
    "feature_4 = train_feature_vals_df['feature_4']\n",
    "feature_4_hist = plt.hist(feature_4, bins=50)\n",
    "feature_4_hist\n",
    "\n",
    "#add histogram to hist_dict\n",
    "hist_dict['feature_4'] = feature_4_hist"
   ]
  },
  {
   "cell_type": "code",
   "execution_count": 12,
   "id": "ddbc0ab9",
   "metadata": {},
   "outputs": [
    {
     "data": {
      "image/png": "[encoded data removed]",
      "text/plain": [
       "<Figure size 432x288 with 1 Axes>"
      ]
     },
     "metadata": {
      "needs_background": "light"
     },
     "output_type": "display_data"
    }
   ],
   "source": [
    "#fit distributionn for feature 5\n",
    "\n",
    "feature_5 = train_feature_vals_df['feature_5']\n",
    "feature_5_hist = plt.hist(feature_5, bins=50)\n",
    "feature_5_hist\n",
    "\n",
    "#add histogram to hist_dict\n",
    "hist_dict['feature_5'] = feature_5_hist"
   ]
  },
  {
   "cell_type": "code",
   "execution_count": 13,
   "id": "b0d4fb4c",
   "metadata": {},
   "outputs": [
    {
     "data": {
      "image/png": "[encoded data removed]",
      "text/plain": [
       "<Figure size 432x288 with 1 Axes>"
      ]
     },
     "metadata": {
      "needs_background": "light"
     },
     "output_type": "display_data"
    }
   ],
   "source": [
    "#fit distributionn for feature 6\n",
    "\n",
    "feature_6 = train_feature_vals_df['feature_6']\n",
    "feature_6_hist = plt.hist(feature_6, bins=50)\n",
    "feature_6_hist\n",
    "\n",
    "#add histogram to hist_dict\n",
    "hist_dict['feature_6'] = feature_6_hist"
   ]
  },
  {
   "cell_type": "code",
   "execution_count": 14,
   "id": "85bf4b42",
   "metadata": {},
   "outputs": [
    {
     "data": {
      "image/png": "[encoded data removed]",
      "text/plain": [
       "<Figure size 432x288 with 1 Axes>"
      ]
     },
     "metadata": {
      "needs_background": "light"
     },
     "output_type": "display_data"
    }
   ],
   "source": [
    "#fit distributionn for feature 7\n",
    "\n",
    "feature_7 = train_feature_vals_df['feature_7']\n",
    "feature_7_hist = plt.hist(feature_7, bins=50)\n",
    "feature_7_hist\n",
    "\n",
    "#add histogram to hist_dict\n",
    "hist_dict['feature_7'] = feature_7_hist"
   ]
  },
  {
   "cell_type": "code",
   "execution_count": 15,
   "id": "d76692b1",
   "metadata": {},
   "outputs": [
    {
     "data": {
      "image/png": "[encoded data removed]",
      "text/plain": [
       "<Figure size 432x288 with 1 Axes>"
      ]
     },
     "metadata": {
      "needs_background": "light"
     },
     "output_type": "display_data"
    }
   ],
   "source": [
    "#fit distributionn for feature 8\n",
    "\n",
    "feature_8 = train_feature_vals_df['feature_8']\n",
    "feature_8_hist = plt.hist(feature_8, bins=50)\n",
    "feature_8_hist\n",
    "\n",
    "#add histogram to hist_dict\n",
    "hist_dict['feature_8'] = feature_8_hist"
   ]
  },
  {
   "cell_type": "code",
   "execution_count": 16,
   "id": "86da93ab",
   "metadata": {},
   "outputs": [
    {
     "data": {
      "image/png": "[encoded data removed]",
      "text/plain": [
       "<Figure size 432x288 with 1 Axes>"
      ]
     },
     "metadata": {
      "needs_background": "light"
     },
     "output_type": "display_data"
    }
   ],
   "source": [
    "#fit distributionn for feature 9\n",
    "\n",
    "feature_9 = train_feature_vals_df['feature_9']\n",
    "feature_9_hist = plt.hist(feature_9, bins=50)\n",
    "feature_9_hist\n",
    "\n",
    "#add histogram to hist_dict\n",
    "hist_dict['feature_9'] = feature_9_hist"
   ]
  },
  {
   "cell_type": "code",
   "execution_count": 17,
   "id": "869e6b6a",
   "metadata": {},
   "outputs": [
    {
     "data": {
      "image/png": "[encoded data removed]",
      "text/plain": [
       "<Figure size 432x288 with 1 Axes>"
      ]
     },
     "metadata": {
      "needs_background": "light"
     },
     "output_type": "display_data"
    }
   ],
   "source": [
    "#fit distributionn for feature 10\n",
    "\n",
    "feature_10 = train_feature_vals_df['feature_10']\n",
    "feature_10_hist = plt.hist(feature_10, bins=50)\n",
    "feature_10_hist\n",
    "\n",
    "#add histogram to hist_dict\n",
    "hist_dict['feature_10'] = feature_10_hist"
   ]
  },
  {
   "cell_type": "markdown",
   "id": "15f0da02",
   "metadata": {},
   "source": [
    "# Define Bayesian Model"
   ]
  },
  {
   "cell_type": "code",
   "execution_count": 18,
   "id": "8b260973",
   "metadata": {},
   "outputs": [
    {
     "data": {
      "text/plain": [
       "array([4.163e+03, 7.900e+01, 7.000e+01, 5.500e+01, 3.200e+01, 3.100e+01,\n",
       "       2.500e+01, 2.100e+01, 2.800e+01, 2.300e+01, 2.100e+01, 1.900e+01,\n",
       "       2.500e+01, 4.100e+01, 4.900e+01, 6.300e+01, 8.100e+01, 7.200e+01,\n",
       "       1.140e+02, 1.230e+02, 1.460e+02, 1.530e+02, 1.890e+02, 2.080e+02,\n",
       "       2.130e+02, 2.430e+02, 2.580e+02, 2.330e+02, 2.850e+02, 2.500e+02,\n",
       "       2.830e+02, 2.750e+02, 2.390e+02, 2.220e+02, 1.980e+02, 1.920e+02,\n",
       "       1.560e+02, 1.430e+02, 1.040e+02, 7.600e+01, 5.500e+01, 4.000e+01,\n",
       "       3.500e+01, 2.100e+01, 1.000e+01, 6.000e+00, 0.000e+00, 1.000e+00,\n",
       "       0.000e+00, 1.000e+00])"
      ]
     },
     "execution_count": 18,
     "metadata": {},
     "output_type": "execute_result"
    }
   ],
   "source": [
    "hist_dict['feature_2'][0]"
   ]
  },
  {
   "cell_type": "code",
   "execution_count": 19,
   "id": "1e357838",
   "metadata": {},
   "outputs": [
    {
     "data": {
      "text/plain": [
       "array([ 0.        ,  0.34998878,  0.69997757,  1.04996635,  1.39995514,\n",
       "        1.74994392,  2.09993271,  2.44992149,  2.79991028,  3.14989906,\n",
       "        3.49988785,  3.84987663,  4.19986542,  4.5498542 ,  4.89984299,\n",
       "        5.24983177,  5.59982056,  5.94980934,  6.29979813,  6.64978691,\n",
       "        6.9997757 ,  7.34976448,  7.69975327,  8.04974205,  8.39973083,\n",
       "        8.74971962,  9.0997084 ,  9.44969719,  9.79968597, 10.14967476,\n",
       "       10.49966354, 10.84965233, 11.19964111, 11.5496299 , 11.89961868,\n",
       "       12.24960747, 12.59959625, 12.94958504, 13.29957382, 13.64956261,\n",
       "       13.99955139, 14.34954018, 14.69952896, 15.04951775, 15.39950653,\n",
       "       15.74949532, 16.0994841 , 16.44947289, 16.79946167, 17.14945045,\n",
       "       17.49943924])"
      ]
     },
     "execution_count": 19,
     "metadata": {},
     "output_type": "execute_result"
    }
   ],
   "source": [
    "hist_dict['feature_2'][1]"
   ]
  },
  {
   "cell_type": "code",
   "execution_count": 20,
   "id": "4837d67f",
   "metadata": {},
   "outputs": [],
   "source": [
    "# define bayesian model\n",
    "# input: feature values\n",
    "# output: array of size 10x2 where element i is a size 2 array with values [P(5|f_i), P(8|f_i)]\n",
    "\n",
    "def bayesian_model(feature_vals):\n",
    "    \n",
    "    output = np.empty([10,2])\n",
    "    \n",
    "    #define priors\n",
    "    prior_5 = np.log(0.5)\n",
    "    prior_8 = np.log(0.5)\n",
    "    \n",
    "    for i, val in enumerate(feature_vals):\n",
    "        \n",
    "        feature_num = i+1\n",
    "        \n",
    "        if feature_num==1 or feature_num==3:\n",
    "            continue\n",
    "            \n",
    "        #get distribution (RV) objects\n",
    "        dist_5 = feature_dists_5['feature_'+str(feature_num)]\n",
    "        dist_8 = feature_dists_8['feature_'+str(feature_num)]\n",
    "        \n",
    "        #get likelihood (i.e. get log probability of value being between (int(val), int(val)+1))\n",
    "        log_likelihood_5 = np.log(dist_5.cdf(int(val)+1) - dist_5.cdf(int(val)))\n",
    "        log_likelihood_8 = np.log(dist_8.cdf(int(val)+1) - dist_8.cdf(int(val)))\n",
    "        \n",
    "        #get P(f_i)\n",
    "        hist = hist_dict['feature_'+str(feature_num)]\n",
    "        hist_counts = hist[0]\n",
    "        hist_bins = hist[1]\n",
    "        \n",
    "        for j, bin_val in enumerate(hist_bins):\n",
    "            if j == 0:\n",
    "                continue\n",
    "            if val <= bin_val:\n",
    "                log_prob_feature = np.log(hist_counts[j-1] / np.sum(hist_counts))\n",
    "                break\n",
    "        \n",
    "        #compute posteriors\n",
    "        posterior_5 = np.exp((prior_5 + log_likelihood_5) - log_prob_feature)\n",
    "        posterior_8 = np.exp((prior_8 + log_likelihood_8) - log_prob_feature)\n",
    "        \n",
    "        output[i] = [posterior_5, posterior_8]\n",
    "    \n",
    "    return output"
   ]
  },
  {
   "cell_type": "markdown",
   "id": "1cdc7635",
   "metadata": {},
   "source": [
    "# Test Bayesian model"
   ]
  },
  {
   "cell_type": "code",
   "execution_count": 21,
   "id": "9f0026a9",
   "metadata": {},
   "outputs": [
    {
     "data": {
      "text/plain": [
       "CNN(\n",
       "  (conv1): Conv2d(1, 10, kernel_size=(5, 5), stride=(1, 1))\n",
       "  (conv2): Conv2d(10, 20, kernel_size=(5, 5), stride=(1, 1))\n",
       "  (fc1): Linear(in_features=320, out_features=10, bias=True)\n",
       "  (fc2): Linear(in_features=10, out_features=2, bias=True)\n",
       ")"
      ]
     },
     "execution_count": 21,
     "metadata": {},
     "output_type": "execute_result"
    }
   ],
   "source": [
    "#import cnn\n",
    "class CNN(nn.Module):\n",
    "    def __init__(self):\n",
    "        super(CNN, self).__init__()\n",
    "        self.conv1 = nn.Conv2d(1, 10, kernel_size=5) # 10 channels in first convolution layer\n",
    "        self.conv2 = nn.Conv2d(10, 20, kernel_size=5) # 20 channels in second conv. layer\n",
    "        self.fc1 = nn.Linear(320, 10) # 10 hidden units in first fully-connected layer\n",
    "        self.fc2 = nn.Linear(10, 2) # 2 output units\n",
    "\n",
    "    def forward(self, x):\n",
    "\n",
    "        # first convolutional layer\n",
    "        h_conv1 = self.conv1(x)\n",
    "        h_conv1 = F.relu(h_conv1)\n",
    "        h_conv1_pool = F.max_pool2d(h_conv1, 2)\n",
    "\n",
    "        # second convolutional layer\n",
    "        h_conv2 = self.conv2(h_conv1_pool)\n",
    "        h_conv2 = F.relu(h_conv2)\n",
    "        h_conv2_pool = F.max_pool2d(h_conv2, 2)\n",
    "\n",
    "        # fully-connected layer\n",
    "        h_fc1 = h_conv2_pool.view(-1, 320)\n",
    "        h_fc1 = self.fc1(h_fc1)\n",
    "        h_fc1 = F.relu(h_fc1)\n",
    "        \n",
    "        # classifier output\n",
    "        output = self.fc2(h_fc1)\n",
    "        output = F.log_softmax(output,dim=1)\n",
    "        return output, h_fc1\n",
    "\n",
    "#load saved trained CNN model\n",
    "cnn = CNN()\n",
    "cnn.load_state_dict(torch.load('cnn'))\n",
    "cnn.train(False)"
   ]
  },
  {
   "cell_type": "code",
   "execution_count": 36,
   "id": "63be3079",
   "metadata": {},
   "outputs": [],
   "source": [
    "#import test dataset\n",
    "# NOTE: test dataset is distorted with pytorch's Elastic Transform augmentation\n",
    "test_dataset = datasets.MNIST(root='data',\n",
    "                              train=False,\n",
    "                              download=True,\n",
    "                              transform=transforms.Compose([\n",
    "                              transforms.ToTensor(),\n",
    "                              transforms.Normalize((0.1307,), (0.3081,)),\n",
    "                              transforms.ElasticTransform(alpha=75.0, sigma=5.0)\n",
    "                              ]))\n",
    "\n",
    "#filter dataset to only 5's and 8's\n",
    "test_filter = [idx for idx, sample in enumerate(test_dataset) if sample[1] in [5,8]]\n",
    "test_dataset = torch.utils.data.Subset(test_dataset, test_filter)"
   ]
  },
  {
   "cell_type": "code",
   "execution_count": 64,
   "id": "64317699",
   "metadata": {},
   "outputs": [
    {
     "data": {
      "text/plain": [
       "<matplotlib.image.AxesImage at 0x7feadfe76490>"
      ]
     },
     "execution_count": 64,
     "metadata": {},
     "output_type": "execute_result"
    },
    {
     "data": {
      "image/png": "[encoded data removed]",
      "text/plain": [
       "<Figure size 432x288 with 1 Axes>"
      ]
     },
     "metadata": {
      "needs_background": "light"
     },
     "output_type": "display_data"
    }
   ],
   "source": [
    "#visualize augmentation\n",
    "\n",
    "unaugmented_dataset = datasets.MNIST(root='data',\n",
    "                              train=False,\n",
    "                              download=True,\n",
    "                              transform=transforms.Compose([\n",
    "                              transforms.ToTensor(),\n",
    "                              transforms.Normalize((0.1307,), (0.3081,))\n",
    "                              ]))\n",
    "unaugmented_dataset = torch.utils.data.Subset(unaugmented_dataset, test_filter)\n",
    "image = unaugmented_dataset[1][0]\n",
    "plt.imshow(image.detach(). permute(1,2,0))"
   ]
  },
  {
   "cell_type": "code",
   "execution_count": 67,
   "id": "f0e221ca",
   "metadata": {},
   "outputs": [
    {
     "data": {
      "text/plain": [
       "<matplotlib.image.AxesImage at 0x7feae00f6df0>"
      ]
     },
     "execution_count": 67,
     "metadata": {},
     "output_type": "execute_result"
    },
    {
     "data": {
      "image/png": "[encoded data removed]",
      "text/plain": [
       "<Figure size 432x288 with 1 Axes>"
      ]
     },
     "metadata": {
      "needs_background": "light"
     },
     "output_type": "display_data"
    }
   ],
   "source": [
    "#visualize augmentation\n",
    "\n",
    "from PIL import Image\n",
    "transform=transforms.Compose([\n",
    "                              #transforms.ToTensor(),\n",
    "                              transforms.Normalize((0.1307,), (0.3081,)),\n",
    "                              transforms.ElasticTransform(alpha=75.0, sigma=5.0)])\n",
    "\n",
    "augmented_image = transform(image)\n",
    "plt.imshow(augmented_image.detach().permute(1,2,0))"
   ]
  },
  {
   "cell_type": "code",
   "execution_count": 37,
   "id": "51f6dca7",
   "metadata": {},
   "outputs": [
    {
     "name": "stderr",
     "output_type": "stream",
     "text": [
      "  0%|          | 0/1866 [00:00<?, ?it/s]<ipython-input-20-561d9a36d565>:25: RuntimeWarning: divide by zero encountered in log\n",
      "  log_likelihood_5 = np.log(dist_5.cdf(int(val)+1) - dist_5.cdf(int(val)))\n",
      "100%|██████████| 1866/1866 [00:17<00:00, 103.84it/s]"
     ]
    },
    {
     "name": "stdout",
     "output_type": "stream",
     "text": [
      "bayesian model test accuracy: 0.9158628081457664\n"
     ]
    },
    {
     "name": "stderr",
     "output_type": "stream",
     "text": [
      "\n"
     ]
    }
   ],
   "source": [
    "#test bayesian model on test set\n",
    "\n",
    "num_correct = 0\n",
    "\n",
    "for sample in tqdm(test_dataset):\n",
    "    data = sample[0]\n",
    "    label = sample[1]\n",
    "    \n",
    "    #extract features using CNN\n",
    "    output, features = cnn(data)\n",
    "    \n",
    "    #get outputs from Bayesian model using extracted features\n",
    "    bayes_out = bayesian_model(features.squeeze().detach().numpy())\n",
    "    \n",
    "    # get prediction by counting predictions by feature\n",
    "    # if majority of features predict 5 then bayes prediction is 5. If majority predict 8 then bayes prediction is 8\n",
    "    # in the event of a tie, choose randomly\n",
    "    \n",
    "    count_pred_5 = 0\n",
    "    \n",
    "    for feature_output in bayes_out:\n",
    "        prob_5 = feature_output[0]\n",
    "        prob_8 = feature_output[1]\n",
    "        \n",
    "        if prob_5 > prob_8:\n",
    "            count_pred_5 += 1\n",
    "    \n",
    "    if count_pred_5 == 4:\n",
    "        if random.random() < 0.5:\n",
    "            bayes_pred = 5\n",
    "        else:\n",
    "            bayes_pred = 8\n",
    "    elif count_pred_5 > 4:\n",
    "        bayes_pred = 5\n",
    "    else:\n",
    "        bayes_pred = 8\n",
    "\n",
    "    if bayes_pred == label:\n",
    "        num_correct += 1\n",
    "\n",
    "#compute test accuracy\n",
    "test_acc = num_correct / len(test_dataset)\n",
    "\n",
    "print('bayesian model test accuracy: {}'.format(test_acc))"
   ]
  },
  {
   "cell_type": "code",
   "execution_count": 38,
   "id": "cb605617",
   "metadata": {},
   "outputs": [
    {
     "data": {
      "text/plain": [
       "array([[0.00000000e+00, 0.00000000e+00],\n",
       "       [1.12341490e+00, 2.46646178e-04],\n",
       "       [0.00000000e+00, 0.00000000e+00],\n",
       "       [1.11760467e+00, 2.60719020e-04],\n",
       "       [1.14239684e+00, 3.74657611e-04],\n",
       "       [8.99667027e-01, 6.37091946e-01],\n",
       "       [1.10808893e+00, 1.51008176e-04],\n",
       "       [1.10220833e+00, 1.16443760e-04],\n",
       "       [1.11920685e+00, 2.82312433e-04],\n",
       "       [3.83388953e-01, 1.16473669e+00]])"
      ]
     },
     "execution_count": 38,
     "metadata": {},
     "output_type": "execute_result"
    }
   ],
   "source": [
    "out, features = cnn(test_dataset[0][0])\n",
    "output = bayesian_model(features.squeeze().detach().numpy())\n",
    "output"
   ]
  },
  {
   "cell_type": "markdown",
   "id": "df456999",
   "metadata": {},
   "source": [
    "# Visualize magnet effect"
   ]
  },
  {
   "cell_type": "code",
   "execution_count": 39,
   "id": "3dd62455",
   "metadata": {},
   "outputs": [],
   "source": [
    "\n",
    "\n",
    "#define bayesian model\n",
    "#inputs: feature values\n",
    "#outputs: P(I|5)*P(5), P(I|8)*P(8)\n",
    "\n",
    "def bayesian_model_2(feature_vals):\n",
    "    \n",
    "    #define priors\n",
    "    prior_5 = np.log(0.5)\n",
    "    prior_8 = np.log(0.5)\n",
    "    \n",
    "    #compute P(I|C) likelihoods\n",
    "    likelihood_5 = 0\n",
    "    likelihood_8 = 0\n",
    "    \n",
    "    for i, val in enumerate(feature_vals):\n",
    "        \n",
    "        feature_num = i+1\n",
    "        \n",
    "        if feature_num==1 or feature_num==3:\n",
    "            continue\n",
    "            \n",
    "        #get distribution (RV) objects\n",
    "        dist_5 = feature_dists_5['feature_'+str(feature_num)]\n",
    "        dist_8 = feature_dists_8['feature_'+str(feature_num)]\n",
    "        \n",
    "        #get log probability of value being between (int(val), int(val)+1)\n",
    "        log_prob_5 = np.log(dist_5.cdf(int(val)+1) - dist_5.cdf(int(val)))\n",
    "        log_prob_8 = np.log(dist_8.cdf(int(val)+1) - dist_8.cdf(int(val)))\n",
    "        \n",
    "        #update likelihoods\n",
    "        likelihood_5 += log_prob_5\n",
    "        likelihood_8 += log_prob_8\n",
    "        \n",
    "    #get P(I) = P(I|5)*P(5) + P(I|8)*P(8)\n",
    "    prob_features_5 = np.exp(likelihood_5 + prior_5)\n",
    "    prob_features_8 = np.exp(likelihood_8 + prior_8)\n",
    "    prob_features = np.log(prob_features_5 + prob_features_8)\n",
    "    \n",
    "    output_5 = np.exp(prior_5 + likelihood_5 - prob_features)\n",
    "    output_8 = np.exp(prior_8 + likelihood_8 - prob_features)\n",
    "    \n",
    "    \n",
    "    return output_5, output_8\n",
    "    "
   ]
  },
  {
   "cell_type": "code",
   "execution_count": 40,
   "id": "ff160996",
   "metadata": {},
   "outputs": [
    {
     "name": "stderr",
     "output_type": "stream",
     "text": [
      "  0%|          | 0/1866 [00:00<?, ?it/s]<ipython-input-39-68b525074d66>:30: RuntimeWarning: divide by zero encountered in log\n",
      "  log_prob_5 = np.log(dist_5.cdf(int(val)+1) - dist_5.cdf(int(val)))\n",
      "100%|██████████| 1866/1866 [00:18<00:00, 100.57it/s]"
     ]
    },
    {
     "name": "stdout",
     "output_type": "stream",
     "text": [
      "bayesian model test accuracy: 0.9180064308681672\n"
     ]
    },
    {
     "name": "stderr",
     "output_type": "stream",
     "text": [
      "\n"
     ]
    }
   ],
   "source": [
    "\n",
    "\n",
    "#test bayesian model on test set\n",
    "\n",
    "num_correct = 0\n",
    "\n",
    "for sample in tqdm(test_dataset):\n",
    "    data = sample[0]\n",
    "    label = sample[1]\n",
    "    \n",
    "    #extract features using CNN\n",
    "    output, features = cnn(data)\n",
    "    \n",
    "    #get outputs from Bayesian model using extracted features\n",
    "    bayesian_out_5, bayesian_out_8 = bayesian_model_2(features.squeeze().detach().numpy())\n",
    "    \n",
    "    if bayesian_out_5 > bayesian_out_8:\n",
    "        bayesian_pred = 5\n",
    "    else:\n",
    "        bayesian_pred = 8\n",
    "\n",
    "    if bayesian_pred == label:\n",
    "        num_correct += 1\n",
    "\n",
    "#compute test accuracy\n",
    "test_acc = num_correct / len(test_dataset)\n",
    "\n",
    "print('bayesian model test accuracy: {}'.format(test_acc))"
   ]
  },
  {
   "cell_type": "code",
   "execution_count": 45,
   "id": "45a85c9f",
   "metadata": {},
   "outputs": [
    {
     "name": "stderr",
     "output_type": "stream",
     "text": [
      "7it [00:00, 61.29it/s]<ipython-input-39-68b525074d66>:30: RuntimeWarning: divide by zero encountered in log\n",
      "  log_prob_5 = np.log(dist_5.cdf(int(val)+1) - dist_5.cdf(int(val)))\n",
      "1866it [00:15, 123.15it/s]\n"
     ]
    }
   ],
   "source": [
    "\n",
    "\n",
    "from tqdm import tqdm\n",
    "\n",
    "comparison_results = np.empty([len(test_dataset),2])\n",
    "\n",
    "for i, sample in tqdm(enumerate(test_dataset)):\n",
    "    data = sample[0]\n",
    "    label = sample[1]\n",
    "    \n",
    "    #extract features using CNN\n",
    "    cnn_output, features = cnn(data)\n",
    "    \n",
    "    cnn_output = cnn_output.squeeze().detach().numpy()\n",
    "    \n",
    "    #get outputs from Bayesian model using extracted features\n",
    "    bayes_output = bayesian_model_2(features.squeeze().detach().numpy())\n",
    "    #print(bayes_output)\n",
    "    #bayes_out_softmax = softmax(bayes_output)\n",
    "    #print(bayes_out_softmax)\n",
    "    \n",
    "    if label == 5:\n",
    "        bayes_result = bayes_output[0]\n",
    "        cnn_result = np.exp(cnn_output[0])\n",
    "    else:\n",
    "        bayes_result = bayes_output[1]\n",
    "        cnn_result = np.exp(cnn_output[1])\n",
    "    \n",
    "    \n",
    "    comparison_results[i] = [cnn_result, bayes_result]\n",
    "\n"
   ]
  },
  {
   "cell_type": "code",
   "execution_count": 52,
   "id": "4d85a7d4",
   "metadata": {},
   "outputs": [
    {
     "data": {
      "text/plain": [
       "(array([  16.,   16.,   16.,   14.,   10.,   11.,   15.,   29.,   51.,\n",
       "        1688.]),\n",
       " array([0.00218535, 0.10196681, 0.20174828, 0.30152974, 0.40131121,\n",
       "        0.50109267, 0.60087414, 0.7006556 , 0.80043707, 0.90021853,\n",
       "        1.        ]),\n",
       " <BarContainer object of 10 artists>)"
      ]
     },
     "execution_count": 52,
     "metadata": {},
     "output_type": "execute_result"
    },
    {
     "data": {
      "image/png": "[encoded data removed]",
      "text/plain": [
       "<Figure size 432x288 with 1 Axes>"
      ]
     },
     "metadata": {
      "needs_background": "light"
     },
     "output_type": "display_data"
    }
   ],
   "source": [
    "plt.hist(comparison_results[:,0], bins=10)"
   ]
  },
  {
   "cell_type": "code",
   "execution_count": 53,
   "id": "138fcb15",
   "metadata": {},
   "outputs": [
    {
     "data": {
      "text/plain": [
       "(array([1.550e+02, 0.000e+00, 0.000e+00, 1.000e+00, 3.000e+00, 0.000e+00,\n",
       "        0.000e+00, 3.000e+00, 1.000e+00, 1.703e+03]),\n",
       " array([0. , 0.1, 0.2, 0.3, 0.4, 0.5, 0.6, 0.7, 0.8, 0.9, 1. ]),\n",
       " <BarContainer object of 10 artists>)"
      ]
     },
     "execution_count": 53,
     "metadata": {},
     "output_type": "execute_result"
    },
    {
     "data": {
      "image/png": "[encoded data removed]",
      "text/plain": [
       "<Figure size 432x288 with 1 Axes>"
      ]
     },
     "metadata": {
      "needs_background": "light"
     },
     "output_type": "display_data"
    }
   ],
   "source": [
    "plt.hist(comparison_results[:,1], bins=10)"
   ]
  },
  {
   "cell_type": "code",
   "execution_count": null,
   "id": "047aad40",
   "metadata": {},
   "outputs": [],
   "source": []
  }
 ],
 "metadata": {
  "kernelspec": {
   "display_name": "Python 3",
   "language": "python",
   "name": "python3"
  },
  "language_info": {
   "codemirror_mode": {
    "name": "ipython",
    "version": 3
   },
   "file_extension": ".py",
   "mimetype": "text/x-python",
   "name": "python",
   "nbconvert_exporter": "python",
   "pygments_lexer": "ipython3",
   "version": "3.8.8"
  }
 },
 "nbformat": 4,
 "nbformat_minor": 5
}
